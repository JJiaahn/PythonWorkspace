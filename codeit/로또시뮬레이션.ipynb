{
 "cells": [
  {
   "cell_type": "markdown",
   "metadata": {},
   "source": [
    "# 로또 시뮬레이션"
   ]
  },
  {
   "cell_type": "markdown",
   "metadata": {},
   "source": [
    "## 1. 번호뽑기"
   ]
  },
  {
   "cell_type": "code",
   "execution_count": 6,
   "metadata": {},
   "outputs": [],
   "source": [
    "# 번호뽑기 함수\n",
    "import random\n",
    "\n",
    "def generate_numbers(n):\n",
    "    num_list = []\n",
    "    while len(num_list) < n:\n",
    "        num = random.randint(1,45)\n",
    "        if num in num_list:\n",
    "            continue\n",
    "        else:\n",
    "            num_list.append(num)\n",
    "    return num_list"
   ]
  },
  {
   "cell_type": "code",
   "execution_count": 7,
   "metadata": {},
   "outputs": [
    {
     "name": "stdout",
     "output_type": "stream",
     "text": [
      "[16, 24, 19, 23, 7, 39]\n"
     ]
    }
   ],
   "source": [
    "print(generate_numbers(6))"
   ]
  },
  {
   "cell_type": "markdown",
   "metadata": {},
   "source": [
    "## 당첨 번호 뽑기"
   ]
  },
  {
   "cell_type": "code",
   "execution_count": 21,
   "metadata": {},
   "outputs": [],
   "source": [
    "def draw_winning_numbers():\n",
    "    num_list = sorted(generate_numbers(6))\n",
    "    while True:\n",
    "        bonous = random.randint(1,45)\n",
    "        if bonous in num_list:\n",
    "            continue\n",
    "        else:\n",
    "            num_list.append(bonous)\n",
    "            break\n",
    "    return num_list"
   ]
  },
  {
   "cell_type": "code",
   "execution_count": 24,
   "metadata": {},
   "outputs": [
    {
     "name": "stdout",
     "output_type": "stream",
     "text": [
      "[11, 22, 23, 32, 34, 39, 27]\n"
     ]
    }
   ],
   "source": [
    "print(draw_winning_numbers())"
   ]
  },
  {
   "cell_type": "markdown",
   "metadata": {},
   "source": [
    "## 겹치는 번호 개수"
   ]
  },
  {
   "cell_type": "code",
   "execution_count": 27,
   "metadata": {},
   "outputs": [],
   "source": [
    "def count_matching_numbers(draw, win):\n",
    "    count = 0\n",
    "    for i in range(len(draw)):\n",
    "        if draw[i] in win:\n",
    "            count += 1\n",
    "    return count"
   ]
  },
  {
   "cell_type": "code",
   "execution_count": 30,
   "metadata": {},
   "outputs": [
    {
     "name": "stdout",
     "output_type": "stream",
     "text": [
      "3\n"
     ]
    }
   ],
   "source": [
    "print(count_matching_numbers([2, 7, 11, 14, 25, 40], [2, 11, 13, 14, 30, 35]))\n"
   ]
  },
  {
   "cell_type": "markdown",
   "metadata": {},
   "source": [
    "## 당첨금 확인"
   ]
  },
  {
   "cell_type": "code",
   "execution_count": 55,
   "metadata": {},
   "outputs": [],
   "source": [
    "def check(draw, win):   # draw는 6개, win은 보너스번호까지 7개\n",
    "    # 일반 당첨번호 맞춘 개수\n",
    "    normal_match = count_matching_numbers(draw, win[:6])\n",
    "    # 보너스 맞추면1, 못맞추면 0\n",
    "    \n",
    "    for i in range(len(draw)):\n",
    "    \n",
    "        if draw[i] == win[6]:\n",
    "            bonous = 1\n",
    "    \n",
    "    if normal_match == 6:\n",
    "        return 1000000000\n",
    "    elif normal_match == 5 and bonous == 1:\n",
    "        return 50000000\n",
    "    elif normal_match == 5 and bonous == 0:\n",
    "        return 1000000\n",
    "    elif normal_match == 4:\n",
    "        return 50000\n",
    "    elif normal_match == 3:\n",
    "        return 5000\n",
    "        \n",
    "    \n",
    "\n",
    "        \n",
    "    "
   ]
  },
  {
   "cell_type": "code",
   "execution_count": 56,
   "metadata": {},
   "outputs": [
    {
     "name": "stdout",
     "output_type": "stream",
     "text": [
      "5000\n"
     ]
    }
   ],
   "source": [
    "numbers_test = [2, 4, 11, 14, 25, 40]\n",
    "winning_numbers_test = [4, 12, 14, 28, 40, 41, 6]\n",
    "\n",
    "print(check(numbers_test, winning_numbers_test))\n"
   ]
  },
  {
   "cell_type": "code",
   "execution_count": 57,
   "metadata": {},
   "outputs": [
    {
     "name": "stdout",
     "output_type": "stream",
     "text": [
      "50000000\n"
     ]
    }
   ],
   "source": [
    "numbers_test = [2, 4, 11, 14, 25, 40]\n",
    "winning_numbers_test = [2, 4, 10, 11, 14, 40, 25]\n",
    "\n",
    "print(check(numbers_test, winning_numbers_test))\n",
    "\n"
   ]
  }
 ],
 "metadata": {
  "kernelspec": {
   "display_name": "base",
   "language": "python",
   "name": "python3"
  },
  "language_info": {
   "codemirror_mode": {
    "name": "ipython",
    "version": 3
   },
   "file_extension": ".py",
   "mimetype": "text/x-python",
   "name": "python",
   "nbconvert_exporter": "python",
   "pygments_lexer": "ipython3",
   "version": "3.12.4"
  }
 },
 "nbformat": 4,
 "nbformat_minor": 2
}
