{
 "cells": [
  {
   "cell_type": "markdown",
   "metadata": {},
   "source": [
    "# 숫자야구"
   ]
  },
  {
   "cell_type": "markdown",
   "metadata": {},
   "source": [
    "## 숫자 3개 뽑기"
   ]
  },
  {
   "cell_type": "code",
   "execution_count": 4,
   "metadata": {},
   "outputs": [],
   "source": [
    "import random"
   ]
  },
  {
   "cell_type": "code",
   "execution_count": 5,
   "metadata": {},
   "outputs": [],
   "source": [
    "def generate_numbers():\n",
    "    num_list = []\n",
    "    \n",
    "    while True:\n",
    "        num = random.randint(0,9)\n",
    "        if num in num_list:\n",
    "            continue\n",
    "        else:\n",
    "            num_list.append(num)\n",
    "            if len(num_list) == 3:\n",
    "                break\n",
    "\n",
    "    return num_list"
   ]
  },
  {
   "cell_type": "code",
   "execution_count": 9,
   "metadata": {},
   "outputs": [
    {
     "name": "stdout",
     "output_type": "stream",
     "text": [
      "[6, 0, 2]\n"
     ]
    }
   ],
   "source": [
    "print(generate_numbers())"
   ]
  },
  {
   "cell_type": "markdown",
   "metadata": {},
   "source": [
    "## 숫자 예측하기"
   ]
  },
  {
   "cell_type": "code",
   "execution_count": 12,
   "metadata": {},
   "outputs": [],
   "source": [
    "def take_guess():\n",
    "    guess_list = []\n",
    "    while True:\n",
    "        num = int(input('숫자 3개를 1개씩 입력: '))\n",
    "        if num > 9:\n",
    "            print('범위를 벗어남. 다시입력')\n",
    "            continue\n",
    "        elif num in guess_list:\n",
    "            print('중복되는 숫자. 다시입력')\n",
    "        else:\n",
    "            guess_list.append(num)\n",
    "        if len(guess_list) == 3:\n",
    "            break\n",
    "    return guess_list"
   ]
  },
  {
   "cell_type": "code",
   "execution_count": 14,
   "metadata": {},
   "outputs": [
    {
     "name": "stdout",
     "output_type": "stream",
     "text": [
      "범위를 벗어남. 다시입력\n",
      "[3, 2, 9]\n"
     ]
    }
   ],
   "source": [
    "print(take_guess())"
   ]
  },
  {
   "cell_type": "markdown",
   "metadata": {},
   "source": [
    "## 점수 계산"
   ]
  },
  {
   "cell_type": "code",
   "execution_count": 17,
   "metadata": {},
   "outputs": [],
   "source": [
    "def get_score(guess, ans):\n",
    "    strike = 0\n",
    "    ball = 0\n",
    "    for i in range(len(guess)):\n",
    "        \n",
    "        if guess[i] == ans[i] and guess[i] in ans:\n",
    "            strike += 1\n",
    "        elif guess[i] != ans[i] and guess[i] in ans:\n",
    "            ball += 1\n",
    "\n",
    "    return strike, ball\n"
   ]
  },
  {
   "cell_type": "code",
   "execution_count": 18,
   "metadata": {},
   "outputs": [
    {
     "name": "stdout",
     "output_type": "stream",
     "text": [
      "1 2\n",
      "0 3\n",
      "2 0\n",
      "3 0\n"
     ]
    }
   ],
   "source": [
    "# 테스트 코드\n",
    "s_1, b_1 = get_score([2, 7, 4], [2, 4, 7])\n",
    "print(s_1, b_1)\n",
    "\n",
    "s_2, b_2 = get_score([7, 2, 4], [2, 4, 7])\n",
    "print(s_2, b_2)\n",
    "\n",
    "s_3, b_3 = get_score([0, 4, 7], [2, 4, 7])\n",
    "print(s_3, b_3)\n",
    "\n",
    "s_4, b_4 = get_score([2, 4, 7], [2, 4, 7])\n",
    "print(s_4, b_4)\n"
   ]
  }
 ],
 "metadata": {
  "kernelspec": {
   "display_name": "base",
   "language": "python",
   "name": "python3"
  },
  "language_info": {
   "codemirror_mode": {
    "name": "ipython",
    "version": 3
   },
   "file_extension": ".py",
   "mimetype": "text/x-python",
   "name": "python",
   "nbconvert_exporter": "python",
   "pygments_lexer": "ipython3",
   "version": "3.12.4"
  }
 },
 "nbformat": 4,
 "nbformat_minor": 2
}
