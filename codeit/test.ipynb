{
 "cells": [
  {
   "cell_type": "code",
   "execution_count": 1,
   "metadata": {},
   "outputs": [],
   "source": [
    "import numpy as np"
   ]
  },
  {
   "cell_type": "code",
   "execution_count": 2,
   "metadata": {},
   "outputs": [
    {
     "name": "stdout",
     "output_type": "stream",
     "text": [
      "[' 1', '2', '3', '4', '5.']\n"
     ]
    }
   ],
   "source": [
    "# split \n",
    "my_string = ' 1. 2. 3. 4. 5.'\n",
    "print(my_string.split('. '))"
   ]
  },
  {
   "cell_type": "code",
   "execution_count": 4,
   "metadata": {},
   "outputs": [
    {
     "data": {
      "text/plain": [
       "['2', '3']"
      ]
     },
     "execution_count": 4,
     "metadata": {},
     "output_type": "execute_result"
    }
   ],
   "source": [
    "num = '      2         \\n      3'\n",
    "num.split()"
   ]
  },
  {
   "cell_type": "code",
   "execution_count": 5,
   "metadata": {},
   "outputs": [],
   "source": [
    "with open('new_file.txt', 'w') as f:\n",
    "    f.write('hello\\n')\n",
    "    f.write('world')\n"
   ]
  },
  {
   "cell_type": "code",
   "execution_count": 9,
   "metadata": {},
   "outputs": [],
   "source": [
    "while True:\n",
    "    eng = input('영어 단어 입력: ')\n",
    "    if eng == 'q':\n",
    "        break\n",
    "    else:\n",
    "            kor = input('한글 뜻 입력: ')\n",
    "            with open('vocabulary.txt', 'a') as f:\n",
    "                f.write(f'{eng}: {kor}\\n')\n"
   ]
  },
  {
   "cell_type": "code",
   "execution_count": 25,
   "metadata": {},
   "outputs": [
    {
     "name": "stdout",
     "output_type": "stream",
     "text": [
      "정답\n",
      "정답\n",
      "정답은 church\n",
      "정답\n",
      "정답은 backpack\n",
      "정답은 wallet\n",
      "정답\n",
      "정답\n"
     ]
    }
   ],
   "source": [
    "kor_list, eng_list = [], []\n",
    "with open('vocabulary.txt', 'r') as f:\n",
    "    for line in f:\n",
    "        kor_list.append(line.strip().split(': ')[1])\n",
    "        eng_list.append(line.strip().split(': ')[0])\n",
    "\n",
    "for i in range(len(kor_list)):\n",
    "    eng_awn = input(f'{kor_list[i]}: ')\n",
    "    if eng_awn == eng_list[i]:\n",
    "        print('정답')\n",
    "    else:\n",
    "        print(f'정답은 {eng_list[i]}')\n",
    "    \n"
   ]
  },
  {
   "cell_type": "markdown",
   "metadata": {},
   "source": [
    "# 로또 시뮬레이션"
   ]
  },
  {
   "cell_type": "code",
   "execution_count": 39,
   "metadata": {},
   "outputs": [],
   "source": [
    "# 번호뽑기 함수\n",
    "import random\n",
    "\n",
    "def generate_numbers(i):\n",
    "    num_list = []\n",
    "    for j in range(i):\n",
    "        num_list.append(random.randint(1,45)) \n",
    "    return num_list\n"
   ]
  },
  {
   "cell_type": "code",
   "execution_count": 40,
   "metadata": {},
   "outputs": [
    {
     "name": "stdout",
     "output_type": "stream",
     "text": [
      "[20, 43, 30, 40, 12, 35]\n"
     ]
    }
   ],
   "source": [
    "print(generate_numbers(6))"
   ]
  }
 ],
 "metadata": {
  "kernelspec": {
   "display_name": "base",
   "language": "python",
   "name": "python3"
  },
  "language_info": {
   "codemirror_mode": {
    "name": "ipython",
    "version": 3
   },
   "file_extension": ".py",
   "mimetype": "text/x-python",
   "name": "python",
   "nbconvert_exporter": "python",
   "pygments_lexer": "ipython3",
   "version": "3.12.4"
  }
 },
 "nbformat": 4,
 "nbformat_minor": 2
}
